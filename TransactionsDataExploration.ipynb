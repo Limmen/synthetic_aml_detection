{
 "cells": [
  {
   "cell_type": "markdown",
   "metadata": {},
   "source": [
    "## Imports"
   ]
  },
  {
   "cell_type": "code",
   "execution_count": 87,
   "metadata": {},
   "outputs": [],
   "source": [
    "from hops import hdfs\n",
    "from pyspark.sql.functions import udf\n",
    "from pyspark.sql.types import StringType, FloatType, BooleanType, IntegerType, StructType, StructField\n",
    "from pyspark.sql.functions import *\n",
    "from pyspark.ml.feature import OneHotEncoderEstimator\n",
    "from pyspark.sql import SQLContext\n",
    "from pyspark.sql import Row"
   ]
  },
  {
   "cell_type": "code",
   "execution_count": 2,
   "metadata": {},
   "outputs": [],
   "source": [
    "%%local\n",
    "import matplotlib.pyplot as plt\n",
    "from pylab import rcParams\n",
    "import numpy as np\n",
    "%matplotlib inline"
   ]
  },
  {
   "cell_type": "markdown",
   "metadata": {},
   "source": [
    "## Constants"
   ]
  },
  {
   "cell_type": "code",
   "execution_count": 67,
   "metadata": {},
   "outputs": [],
   "source": [
    "INPUT_DATASET_PATH = hdfs.project_path() + '/transactions/transactions.csv'\n",
    "OUTPUT_DATASET_PATH = hdfs.project_path() + '/transactions/cleaned_transactions.csv'\n",
    "OUTPUT_METADATA_PATH = hdfs.project_path() + '/transactions/metadata'"
   ]
  },
  {
   "cell_type": "markdown",
   "metadata": {},
   "source": [
    "## Read Dataset with Spark"
   ]
  },
  {
   "cell_type": "code",
   "execution_count": 4,
   "metadata": {},
   "outputs": [
    {
     "name": "stdout",
     "output_type": "stream",
     "text": [
      "DataFrame[step: string, type: string, amount: string, nameOrig: string, oldbalanceOrg: string, newbalanceOrig: string, nameDest: string, oldbalanceDest: string, newbalanceDest: string, isFraud: string, isFlaggedFraud: string]"
     ]
    }
   ],
   "source": [
    "df_raw = spark.read.format(\"csv\").option(\"header\", \"true\").load(INPUT_DATASET_PATH).repartition(100)\n",
    "df_raw.persist()"
   ]
  },
  {
   "cell_type": "markdown",
   "metadata": {},
   "source": [
    "## Basic Data Exploration\n",
    "\n",
    "Columns: \n",
    "\n",
    "step - maps a unit of time in the real world. In this case 1 step is 1 hour of time. Total steps 744 (30 days simulation).\n",
    "\n",
    "type - CASH-IN, CASH-OUT, DEBIT, PAYMENT and TRANSFER.\n",
    "\n",
    "amount - amount of the transaction in local currency.\n",
    "\n",
    "nameOrig - customer who started the transaction\n",
    "\n",
    "oldbalanceOrg - initial balance before the transaction\n",
    "\n",
    "newbalanceOrig - new balance after the transaction\n",
    "\n",
    "nameDest - customer who is the recipient of the transaction\n",
    "\n",
    "oldbalanceDest - initial balance recipient before the transaction. Note that there is not information for customers that start with M (Merchants).\n",
    "\n",
    "newbalanceDest - new balance recipient after the transaction. Note that there is not information for customers that start with M (Merchants).\n",
    "\n",
    "isFraud - This is the transactions made by the fraudulent agents inside the simulation. In this specific dataset the fraudulent behavior of the agents aims to profit by taking control or customers accounts and try to empty the funds by transferring to another account and then cashing out of the system.\n",
    "\n",
    "isFlaggedFraud - The business model aims to control massive transfers from one account to another and flags illegal attempts. An illegal attempt in this dataset is an attempt to transfer more than 200.000 in a single transaction."
   ]
  },
  {
   "cell_type": "code",
   "execution_count": 5,
   "metadata": {},
   "outputs": [
    {
     "name": "stdout",
     "output_type": "stream",
     "text": [
      "root\n",
      " |-- step: string (nullable = true)\n",
      " |-- type: string (nullable = true)\n",
      " |-- amount: string (nullable = true)\n",
      " |-- nameOrig: string (nullable = true)\n",
      " |-- oldbalanceOrg: string (nullable = true)\n",
      " |-- newbalanceOrig: string (nullable = true)\n",
      " |-- nameDest: string (nullable = true)\n",
      " |-- oldbalanceDest: string (nullable = true)\n",
      " |-- newbalanceDest: string (nullable = true)\n",
      " |-- isFraud: string (nullable = true)\n",
      " |-- isFlaggedFraud: string (nullable = true)"
     ]
    }
   ],
   "source": [
    "df_raw.printSchema()"
   ]
  },
  {
   "cell_type": "markdown",
   "metadata": {},
   "source": [
    "## Cast Columns to Correct Type"
   ]
  },
  {
   "cell_type": "code",
   "execution_count": 6,
   "metadata": {},
   "outputs": [
    {
     "name": "stdout",
     "output_type": "stream",
     "text": [
      "['step', 'type', 'amount', 'nameOrig', 'oldbalanceOrg', 'newbalanceOrig', 'nameDest', 'oldbalanceDest', 'newbalanceDest', 'isFraud', 'isFlaggedFraud']"
     ]
    }
   ],
   "source": [
    "df_raw.columns"
   ]
  },
  {
   "cell_type": "code",
   "execution_count": 8,
   "metadata": {},
   "outputs": [],
   "source": [
    "def string_to_float(x):\n",
    "    return float(x)\n",
    "\n",
    "def is_fraud_to_bool(x):\n",
    "    x_int = int(x)\n",
    "    if x_int == 1:\n",
    "        return True\n",
    "    else:\n",
    "        return False\n",
    "\n",
    "udf_string_to_float = udf(string_to_float, returnType = FloatType())\n",
    "udf_is_fraud_to_bool = udf(is_fraud_to_bool, returnType = BooleanType())"
   ]
  },
  {
   "cell_type": "code",
   "execution_count": 9,
   "metadata": {},
   "outputs": [],
   "source": [
    "df_casted = df_raw \\\n",
    "        .withColumn(\"amount_float\", udf_string_to_float(\"amount\")) \\\n",
    "        .withColumn(\"oldbalanceOrg_float\", udf_string_to_float(\"oldbalanceOrg\")) \\\n",
    "        .withColumn(\"newbalanceOrig_float\", udf_string_to_float(\"newbalanceOrig\")) \\\n",
    "        .withColumn(\"oldbalanceDest_float\", udf_string_to_float(\"oldbalanceDest\")) \\\n",
    "        .withColumn(\"newbalanceDest_float\", udf_string_to_float(\"newbalanceDest\")) \\\n",
    "        .withColumn(\"step_float\", udf_string_to_float(\"step\")) \\\n",
    "        .withColumn(\"isFraud_bool\", udf_is_fraud_to_bool(\"isFraud\")) \\\n",
    "        .withColumn(\"isFlaggedFraud_bool\", udf_is_fraud_to_bool(\"isFlaggedFraud\")) \\\n",
    "        .select(\n",
    "                col(\"step_float\").alias(\"step\"), \n",
    "                \"type\", \n",
    "                col(\"amount_float\").alias(\"amount\"), \n",
    "                \"nameOrig\", \n",
    "                col(\"oldbalanceOrg_float\").alias(\"oldbalanceOrg\"), \n",
    "                col(\"newbalanceOrig_float\").alias(\"newbalanceOrg\"),\n",
    "                \"nameDest\",\n",
    "                col(\"oldbalanceDest_float\").alias(\"oldbalanceDest\"),\n",
    "                col(\"newbalanceDest_float\").alias(\"newbalanceDest\"),\n",
    "                col(\"isFraud_bool\").alias(\"isFraud\"),\n",
    "                col(\"isFlaggedFraud_bool\").alias(\"isFlaggedFraud\")\n",
    "               )"
   ]
  },
  {
   "cell_type": "code",
   "execution_count": 10,
   "metadata": {},
   "outputs": [
    {
     "name": "stdout",
     "output_type": "stream",
     "text": [
      "DataFrame[step: float, type: string, amount: float, nameOrig: string, oldbalanceOrg: float, newbalanceOrg: float, nameDest: string, oldbalanceDest: float, newbalanceDest: float, isFraud: boolean, isFlaggedFraud: boolean]"
     ]
    }
   ],
   "source": [
    "df_casted.persist()"
   ]
  },
  {
   "cell_type": "code",
   "execution_count": 11,
   "metadata": {},
   "outputs": [
    {
     "name": "stdout",
     "output_type": "stream",
     "text": [
      "root\n",
      " |-- step: float (nullable = true)\n",
      " |-- type: string (nullable = true)\n",
      " |-- amount: float (nullable = true)\n",
      " |-- nameOrig: string (nullable = true)\n",
      " |-- oldbalanceOrg: float (nullable = true)\n",
      " |-- newbalanceOrg: float (nullable = true)\n",
      " |-- nameDest: string (nullable = true)\n",
      " |-- oldbalanceDest: float (nullable = true)\n",
      " |-- newbalanceDest: float (nullable = true)\n",
      " |-- isFraud: boolean (nullable = true)\n",
      " |-- isFlaggedFraud: boolean (nullable = true)"
     ]
    }
   ],
   "source": [
    "df_casted.printSchema()"
   ]
  },
  {
   "cell_type": "markdown",
   "metadata": {},
   "source": [
    "## DataFrame Summary Statistics"
   ]
  },
  {
   "cell_type": "code",
   "execution_count": 10,
   "metadata": {},
   "outputs": [
    {
     "name": "stdout",
     "output_type": "stream",
     "text": [
      "+----+--------+--------+-----------+-------------+-------------+-----------+--------------+--------------+-------+--------------+\n",
      "|step|    type|  amount|   nameOrig|oldbalanceOrg|newbalanceOrg|   nameDest|oldbalanceDest|newbalanceDest|isFraud|isFlaggedFraud|\n",
      "+----+--------+--------+-----------+-------------+-------------+-----------+--------------+--------------+-------+--------------+\n",
      "| 1.0| PAYMENT| 9839.64|C1231006815|     170136.0|    160296.36|M1979787155|           0.0|           0.0|  false|         false|\n",
      "| 1.0| PAYMENT| 1864.28|C1666544295|      21249.0|     19384.72|M2044282225|           0.0|           0.0|  false|         false|\n",
      "| 1.0|TRANSFER|   181.0|C1305486145|        181.0|          0.0| C553264065|           0.0|           0.0|   true|         false|\n",
      "| 1.0|CASH_OUT|   181.0| C840083671|        181.0|          0.0|  C38997010|       21182.0|           0.0|   true|         false|\n",
      "| 1.0| PAYMENT|11668.14|C2048537720|      41554.0|     29885.86|M1230701703|           0.0|           0.0|  false|         false|\n",
      "+----+--------+--------+-----------+-------------+-------------+-----------+--------------+--------------+-------+--------------+\n",
      "only showing top 5 rows"
     ]
    }
   ],
   "source": [
    "df_casted.show(5)"
   ]
  },
  {
   "cell_type": "code",
   "execution_count": 11,
   "metadata": {},
   "outputs": [
    {
     "name": "stdout",
     "output_type": "stream",
     "text": [
      "6362620"
     ]
    }
   ],
   "source": [
    "df_casted.count()"
   ]
  },
  {
   "cell_type": "code",
   "execution_count": 12,
   "metadata": {},
   "outputs": [
    {
     "name": "stdout",
     "output_type": "stream",
     "text": [
      "+-------+------------------+--------+------------------+-----------+------------------+------------------+-----------+------------------+------------------+\n",
      "|summary|              step|    type|            amount|   nameOrig|     oldbalanceOrg|     newbalanceOrg|   nameDest|    oldbalanceDest|    newbalanceDest|\n",
      "+-------+------------------+--------+------------------+-----------+------------------+------------------+-----------+------------------+------------------+\n",
      "|  count|           6362620| 6362620|           6362620|    6362620|           6362620|           6362620|    6362620|           6362620|           6362620|\n",
      "|   mean|243.39724563151657|    null|179861.90355799918|       null| 833883.1040482766| 855113.6685519267|       null|1100701.6665156619|1224996.3981843132|\n",
      "| stddev|142.33197104913046|    null|  603858.231677277|       null|2888242.6729989573|2924048.5029103346|       null|3399180.1117577255| 3674128.941013774|\n",
      "|    min|               1.0| CASH_IN|               0.0|C1000000639|               0.0|               0.0|C1000004082|               0.0|               0.0|\n",
      "|    max|             743.0|TRANSFER|        9.244552E7| C999999784|        5.958504E7|        4.958504E7| M999999784|      3.56015904E8|      3.56179264E8|\n",
      "+-------+------------------+--------+------------------+-----------+------------------+------------------+-----------+------------------+------------------+"
     ]
    }
   ],
   "source": [
    "df_stats = df_casted.describe()\n",
    "df_stats.show()"
   ]
  },
  {
   "cell_type": "code",
   "execution_count": 13,
   "metadata": {},
   "outputs": [
    {
     "name": "stdout",
     "output_type": "stream",
     "text": [
      "+-------+------------------+------------------+--------+-----------+\n",
      "|summary|              step|            amount|    type|   nameOrig|\n",
      "+-------+------------------+------------------+--------+-----------+\n",
      "|  count|           6362620|           6362620| 6362620|    6362620|\n",
      "|   mean|243.39724563151657|179861.90355799918|    null|       null|\n",
      "| stddev|142.33197104913046|  603858.231677277|    null|       null|\n",
      "|    min|               1.0|               0.0| CASH_IN|C1000000639|\n",
      "|    max|             743.0|        9.244552E7|TRANSFER| C999999784|\n",
      "+-------+------------------+------------------+--------+-----------+"
     ]
    }
   ],
   "source": [
    "df_stats.select(\"summary\", \"step\", \"amount\", \"type\", \"nameOrig\").show()"
   ]
  },
  {
   "cell_type": "code",
   "execution_count": 14,
   "metadata": {},
   "outputs": [
    {
     "name": "stdout",
     "output_type": "stream",
     "text": [
      "+-------+------------------+------------------+------------------+------------------+\n",
      "|summary|     oldbalanceOrg|     newbalanceOrg|    oldbalanceDest|    newbalanceDest|\n",
      "+-------+------------------+------------------+------------------+------------------+\n",
      "|  count|           6362620|           6362620|           6362620|           6362620|\n",
      "|   mean| 833883.1040482766| 855113.6685519267|1100701.6665156619|1224996.3981843132|\n",
      "| stddev|2888242.6729989573|2924048.5029103346|3399180.1117577255| 3674128.941013774|\n",
      "|    min|               0.0|               0.0|               0.0|               0.0|\n",
      "|    max|        5.958504E7|        4.958504E7|      3.56015904E8|      3.56179264E8|\n",
      "+-------+------------------+------------------+------------------+------------------+"
     ]
    }
   ],
   "source": [
    "df_stats.select(\"summary\", \"oldbalanceOrg\", \"newbalanceOrg\", \"oldbalanceDest\", \"newbalanceDest\").show()"
   ]
  },
  {
   "cell_type": "markdown",
   "metadata": {},
   "source": [
    "## Covariance/Correlation Statistics"
   ]
  },
  {
   "cell_type": "markdown",
   "metadata": {},
   "source": [
    "Covariance is a measure of how two variables change with respect to each other. A positive number would mean that there is a tendency that as one variable increases, the other increases as well. A negative number would mean that as one variable increases, the other variable has a tendency to decrease. The sample covariance of two columns of a DataFrame can be calculated as follows"
   ]
  },
  {
   "cell_type": "code",
   "execution_count": 15,
   "metadata": {},
   "outputs": [
    {
     "name": "stdout",
     "output_type": "stream",
     "text": [
      "12196389479605.941"
     ]
    }
   ],
   "source": [
    "df_casted.stat.cov('oldbalanceDest', 'newbalanceDest')"
   ]
  },
  {
   "cell_type": "code",
   "execution_count": 16,
   "metadata": {},
   "outputs": [
    {
     "name": "stdout",
     "output_type": "stream",
     "text": [
      "650346160469.154"
     ]
    }
   ],
   "source": [
    "df_casted.stat.cov('oldbalanceDest', 'oldbalanceOrg')"
   ]
  },
  {
   "cell_type": "code",
   "execution_count": 17,
   "metadata": {},
   "outputs": [
    {
     "name": "stdout",
     "output_type": "stream",
     "text": [
      "449474089593.0458"
     ]
    }
   ],
   "source": [
    "df_casted.stat.cov('newbalanceDest', 'newbalanceOrg')"
   ]
  },
  {
   "cell_type": "code",
   "execution_count": 18,
   "metadata": {},
   "outputs": [
    {
     "name": "stdout",
     "output_type": "stream",
     "text": [
      "603753263202.9885"
     ]
    }
   ],
   "source": [
    "df_casted.stat.cov('amount', 'oldbalanceDest')"
   ]
  },
  {
   "cell_type": "code",
   "execution_count": 19,
   "metadata": {},
   "outputs": [
    {
     "name": "stdout",
     "output_type": "stream",
     "text": [
      "-4818002158.3172455"
     ]
    }
   ],
   "source": [
    "df_casted.stat.cov('amount', 'oldbalanceOrg')"
   ]
  },
  {
   "cell_type": "code",
   "execution_count": 20,
   "metadata": {},
   "outputs": [
    {
     "name": "stdout",
     "output_type": "stream",
     "text": [
      "1019036792579.7117"
     ]
    }
   ],
   "source": [
    "df_casted.stat.cov('amount', 'newbalanceDest')"
   ]
  },
  {
   "cell_type": "code",
   "execution_count": 21,
   "metadata": {},
   "outputs": [
    {
     "name": "stdout",
     "output_type": "stream",
     "text": [
      "-13880120343.009201"
     ]
    }
   ],
   "source": [
    "df_casted.stat.cov('amount', 'newbalanceOrg')"
   ]
  },
  {
   "cell_type": "markdown",
   "metadata": {},
   "source": [
    " Correlation is a normalized measure of covariance that is easier to understand, as it provides quantitative measurements of the statistical dependence between two random variables."
   ]
  },
  {
   "cell_type": "code",
   "execution_count": 22,
   "metadata": {},
   "outputs": [
    {
     "name": "stdout",
     "output_type": "stream",
     "text": [
      "0.9765685054902183"
     ]
    }
   ],
   "source": [
    "df_casted.stat.corr('oldbalanceDest', 'newbalanceDest')"
   ]
  },
  {
   "cell_type": "code",
   "execution_count": 23,
   "metadata": {},
   "outputs": [
    {
     "name": "stdout",
     "output_type": "stream",
     "text": [
      "0.06624250134480529"
     ]
    }
   ],
   "source": [
    "df_casted.stat.corr('oldbalanceDest', 'oldbalanceOrg')"
   ]
  },
  {
   "cell_type": "code",
   "execution_count": 24,
   "metadata": {},
   "outputs": [
    {
     "name": "stdout",
     "output_type": "stream",
     "text": [
      "0.04183749714055719"
     ]
    }
   ],
   "source": [
    "df_casted.stat.corr('newbalanceDest', 'newbalanceOrg')"
   ]
  },
  {
   "cell_type": "code",
   "execution_count": 25,
   "metadata": {},
   "outputs": [
    {
     "name": "stdout",
     "output_type": "stream",
     "text": [
      "0.2941374500504793"
     ]
    }
   ],
   "source": [
    "df_casted.stat.corr('amount', 'oldbalanceDest')"
   ]
  },
  {
   "cell_type": "code",
   "execution_count": 26,
   "metadata": {},
   "outputs": [
    {
     "name": "stdout",
     "output_type": "stream",
     "text": [
      "-0.0027624747622870425"
     ]
    }
   ],
   "source": [
    "df_casted.stat.corr('amount', 'oldbalanceOrg')"
   ]
  },
  {
   "cell_type": "code",
   "execution_count": 27,
   "metadata": {},
   "outputs": [
    {
     "name": "stdout",
     "output_type": "stream",
     "text": [
      "0.45930426711925426"
     ]
    }
   ],
   "source": [
    "df_casted.stat.corr('amount', 'newbalanceDest')"
   ]
  },
  {
   "cell_type": "code",
   "execution_count": 28,
   "metadata": {},
   "outputs": [
    {
     "name": "stdout",
     "output_type": "stream",
     "text": [
      "-0.007860925283326372"
     ]
    }
   ],
   "source": [
    "df_casted.stat.corr('amount', 'newbalanceOrg')"
   ]
  },
  {
   "cell_type": "markdown",
   "metadata": {},
   "source": [
    "## Register SQL Table View"
   ]
  },
  {
   "cell_type": "code",
   "execution_count": 29,
   "metadata": {},
   "outputs": [],
   "source": [
    "# Register the DataFrame as a SQL temporary view\n",
    "df_casted.createOrReplaceTempView(\"trx\")"
   ]
  },
  {
   "cell_type": "markdown",
   "metadata": {},
   "source": [
    "## Counts"
   ]
  },
  {
   "cell_type": "code",
   "execution_count": 30,
   "metadata": {},
   "outputs": [],
   "source": [
    "number_of_transactions = df_casted.count()\n",
    "number_of_frauds = spark.sql(\"SELECT isFraud FROM trx WHERE isFraud = 'true'\").count()\n",
    "number_of_non_frauds = spark.sql(\"SELECT isFraud FROM trx WHERE isFraud = 'false'\").count()\n",
    "number_of_flagged_frauds = spark.sql(\"SELECT isFlaggedFraud FROM trx WHERE isFraud = 'true'\").count()\n",
    "number_of_non_flagged_frauds = spark.sql(\"SELECT isFlaggedFraud FROM trx WHERE isFraud = 'false'\").count()"
   ]
  },
  {
   "cell_type": "code",
   "execution_count": 31,
   "metadata": {},
   "outputs": [
    {
     "name": "stdout",
     "output_type": "stream",
     "text": [
      "6362620"
     ]
    }
   ],
   "source": [
    "number_of_transactions"
   ]
  },
  {
   "cell_type": "code",
   "execution_count": 32,
   "metadata": {},
   "outputs": [
    {
     "name": "stdout",
     "output_type": "stream",
     "text": [
      "8213"
     ]
    }
   ],
   "source": [
    "number_of_frauds"
   ]
  },
  {
   "cell_type": "code",
   "execution_count": 33,
   "metadata": {},
   "outputs": [
    {
     "name": "stdout",
     "output_type": "stream",
     "text": [
      "6354407"
     ]
    }
   ],
   "source": [
    "number_of_non_frauds"
   ]
  },
  {
   "cell_type": "code",
   "execution_count": 34,
   "metadata": {},
   "outputs": [],
   "source": [
    "assert number_of_frauds + number_of_non_frauds == number_of_transactions"
   ]
  },
  {
   "cell_type": "code",
   "execution_count": 35,
   "metadata": {},
   "outputs": [
    {
     "name": "stdout",
     "output_type": "stream",
     "text": [
      "8213"
     ]
    }
   ],
   "source": [
    "number_of_flagged_frauds"
   ]
  },
  {
   "cell_type": "code",
   "execution_count": 36,
   "metadata": {},
   "outputs": [
    {
     "name": "stdout",
     "output_type": "stream",
     "text": [
      "6354407"
     ]
    }
   ],
   "source": [
    "number_of_non_flagged_frauds"
   ]
  },
  {
   "cell_type": "code",
   "execution_count": 37,
   "metadata": {},
   "outputs": [],
   "source": [
    "assert number_of_flagged_frauds + number_of_non_flagged_frauds == number_of_transactions"
   ]
  },
  {
   "cell_type": "markdown",
   "metadata": {},
   "source": [
    "## Data Cleaning"
   ]
  },
  {
   "cell_type": "code",
   "execution_count": 46,
   "metadata": {},
   "outputs": [],
   "source": [
    "df_cleaned = df_casted.drop(\"isFlaggedFraud\") # Redundant column\n",
    "df_cleaned = df_cleaned.persist()"
   ]
  },
  {
   "cell_type": "code",
   "execution_count": 14,
   "metadata": {},
   "outputs": [],
   "source": [
    "orig_account_names = df_cleaned.select(\"nameOrig\").distinct().collect()\n",
    "dest_account_names = df_cleaned.select(\"nameDest\").distinct().collect()"
   ]
  },
  {
   "cell_type": "code",
   "execution_count": 15,
   "metadata": {},
   "outputs": [],
   "source": [
    "orig_account_names = list(map(lambda x: x.nameOrig, orig_account_names))\n",
    "dest_account_names = list(map(lambda x: x.nameDest, dest_account_names))"
   ]
  },
  {
   "cell_type": "code",
   "execution_count": 16,
   "metadata": {},
   "outputs": [],
   "source": [
    "names = set(orig_account_names + dest_account_names)"
   ]
  },
  {
   "cell_type": "code",
   "execution_count": 17,
   "metadata": {},
   "outputs": [],
   "source": [
    "number_of_unique_accounts = len(names)"
   ]
  },
  {
   "cell_type": "code",
   "execution_count": 18,
   "metadata": {},
   "outputs": [
    {
     "name": "stdout",
     "output_type": "stream",
     "text": [
      "9073900"
     ]
    }
   ],
   "source": [
    "number_of_unique_accounts"
   ]
  },
  {
   "cell_type": "code",
   "execution_count": 19,
   "metadata": {},
   "outputs": [],
   "source": [
    "names = list(names)"
   ]
  },
  {
   "cell_type": "code",
   "execution_count": 33,
   "metadata": {},
   "outputs": [],
   "source": [
    "names_lookup = {k: v for v, k in enumerate(names)}"
   ]
  },
  {
   "cell_type": "code",
   "execution_count": 35,
   "metadata": {},
   "outputs": [],
   "source": [
    "names_lookup_broadcast = spark.sparkContext.broadcast(names_lookup)"
   ]
  },
  {
   "cell_type": "code",
   "execution_count": 36,
   "metadata": {},
   "outputs": [],
   "source": [
    "df_cleaned = df_cleaned.persist()"
   ]
  },
  {
   "cell_type": "code",
   "execution_count": 47,
   "metadata": {},
   "outputs": [
    {
     "name": "stdout",
     "output_type": "stream",
     "text": [
      "root\n",
      " |-- step: float (nullable = true)\n",
      " |-- type: string (nullable = true)\n",
      " |-- amount: float (nullable = true)\n",
      " |-- nameOrig: string (nullable = true)\n",
      " |-- oldbalanceOrg: float (nullable = true)\n",
      " |-- newbalanceOrg: float (nullable = true)\n",
      " |-- nameDest: string (nullable = true)\n",
      " |-- oldbalanceDest: float (nullable = true)\n",
      " |-- newbalanceDest: float (nullable = true)\n",
      " |-- isFraud: boolean (nullable = true)"
     ]
    }
   ],
   "source": [
    "df_cleaned.printSchema()"
   ]
  },
  {
   "cell_type": "code",
   "execution_count": 48,
   "metadata": {},
   "outputs": [],
   "source": [
    "transaction_types = {\n",
    "    \"CASH_IN\": 0, \n",
    "    \"CASH_OUT\": 1, \n",
    "    \"DEBIT\": 2,\n",
    "    \"PAYMENT\": 3,\n",
    "    \"TRANSFER\": 4\n",
    "}"
   ]
  },
  {
   "cell_type": "code",
   "execution_count": 49,
   "metadata": {},
   "outputs": [],
   "source": [
    "def bool_to_int(x):\n",
    "    if x:\n",
    "        return 1\n",
    "    else:\n",
    "        return 0\n",
    "\n",
    "def transaction_type_to_int(x):\n",
    "    return transaction_types[x]\n",
    "\n",
    "def account_name_to_int(x):\n",
    "    return names_lookup_broadcast.value[x]\n",
    "\n",
    "udf_transaction_type_to_int = udf(transaction_type_to_int, returnType = IntegerType())\n",
    "udf_bool_to_int = udf(bool_to_int, returnType = IntegerType())\n",
    "udf_account_name_to_int = udf(account_name_to_int, returnType = IntegerType())"
   ]
  },
  {
   "cell_type": "code",
   "execution_count": 50,
   "metadata": {},
   "outputs": [
    {
     "name": "stdout",
     "output_type": "stream",
     "text": [
      "['step', 'type', 'amount', 'nameOrig', 'oldbalanceOrg', 'newbalanceOrg', 'nameDest', 'oldbalanceDest', 'newbalanceDest', 'isFraud']"
     ]
    }
   ],
   "source": [
    "df_cleaned.columns"
   ]
  },
  {
   "cell_type": "code",
   "execution_count": 51,
   "metadata": {},
   "outputs": [],
   "source": [
    "df_cleaned = df_cleaned \\\n",
    "        .withColumn(\"isFraud_int\", udf_bool_to_int(\"isFraud\")) \\\n",
    "        .withColumn(\"type_int\", udf_transaction_type_to_int(\"type\")) \\\n",
    "        .withColumn(\"nameOrig_int\", udf_account_name_to_int(\"nameOrig\")) \\\n",
    "        .withColumn(\"nameDest_int\", udf_account_name_to_int(\"nameDest\")) \\\n",
    "        .select(\n",
    "                col(\"type_int\").alias(\"type\"),  \n",
    "                col(\"isFraud_int\").alias(\"isFraud\"),\n",
    "                col(\"nameOrig_int\").alias(\"nameOrig\"),\n",
    "                col(\"nameDest_int\").alias(\"nameDest\"),\n",
    "                \"step\",\n",
    "                \"amount\",\n",
    "                \"oldbalanceOrg\",\n",
    "                \"newbalanceOrg\",\n",
    "                \"oldbalanceDest\",\n",
    "                \"newbalanceDest\"\n",
    "               )"
   ]
  },
  {
   "cell_type": "code",
   "execution_count": 52,
   "metadata": {},
   "outputs": [],
   "source": [
    "df_cleaned = df_cleaned.repartition(100)"
   ]
  },
  {
   "cell_type": "code",
   "execution_count": 45,
   "metadata": {},
   "outputs": [
    {
     "name": "stdout",
     "output_type": "stream",
     "text": [
      "+----+-------+--------+--------+-----+---------+-------------+-------------+--------------+--------------+\n",
      "|type|isFraud|nameOrig|nameDest| step|   amount|oldbalanceOrg|newbalanceOrg|oldbalanceDest|newbalanceDest|\n",
      "+----+-------+--------+--------+-----+---------+-------------+-------------+--------------+--------------+\n",
      "|   1|      0| 1310881| 7838458| 39.0|118267.24|          0.0|          0.0|     151104.11|     269371.34|\n",
      "|   1|      0| 1575152| 6357476|161.0| 57609.85|          0.0|          0.0|     101361.11|     158970.95|\n",
      "|   3|      0| 1936818|  285856|402.0|  7985.94|          0.0|          0.0|           0.0|           0.0|\n",
      "|   1|      0|  734760|  888668|252.0|245800.06|      48236.0|          0.0|      973947.0|     1146464.5|\n",
      "|   3|      0|  532527| 9005312|325.0|  3330.45|          0.0|          0.0|           0.0|           0.0|\n",
      "+----+-------+--------+--------+-----+---------+-------------+-------------+--------------+--------------+\n",
      "only showing top 5 rows"
     ]
    }
   ],
   "source": [
    "df_cleaned.show(5)"
   ]
  },
  {
   "cell_type": "code",
   "execution_count": 38,
   "metadata": {},
   "outputs": [
    {
     "name": "stdout",
     "output_type": "stream",
     "text": [
      "root\n",
      " |-- type: integer (nullable = true)\n",
      " |-- isFraud: integer (nullable = true)\n",
      " |-- nameOrig: integer (nullable = true)\n",
      " |-- nameDest: integer (nullable = true)\n",
      " |-- step: float (nullable = true)\n",
      " |-- amount: float (nullable = true)\n",
      " |-- oldbalanceOrg: float (nullable = true)\n",
      " |-- newbalanceOrg: float (nullable = true)\n",
      " |-- oldbalanceDest: float (nullable = true)\n",
      " |-- newbalanceDest: float (nullable = true)"
     ]
    }
   ],
   "source": [
    "df_cleaned.printSchema()"
   ]
  },
  {
   "cell_type": "markdown",
   "metadata": {},
   "source": [
    "## Plotting"
   ]
  },
  {
   "cell_type": "code",
   "execution_count": null,
   "metadata": {},
   "outputs": [],
   "source": [
    "# Register the DataFrame as a SQL temporary view\n",
    "df_cleaned.createOrReplaceTempView(\"trx\")"
   ]
  },
  {
   "cell_type": "code",
   "execution_count": null,
   "metadata": {},
   "outputs": [],
   "source": [
    "%%help"
   ]
  },
  {
   "cell_type": "markdown",
   "metadata": {},
   "source": [
    "### Transaction Type Pie Chart"
   ]
  },
  {
   "cell_type": "code",
   "execution_count": null,
   "metadata": {},
   "outputs": [],
   "source": [
    "transaction_types_df = spark.sql(\"SELECT type from trx\")"
   ]
  },
  {
   "cell_type": "code",
   "execution_count": null,
   "metadata": {},
   "outputs": [],
   "source": [
    "%%spark -o transaction_types_df"
   ]
  },
  {
   "cell_type": "code",
   "execution_count": null,
   "metadata": {},
   "outputs": [],
   "source": [
    "%%local\n",
    "transaction_types_df"
   ]
  },
  {
   "cell_type": "markdown",
   "metadata": {},
   "source": [
    "## isFraud pie chart"
   ]
  },
  {
   "cell_type": "code",
   "execution_count": null,
   "metadata": {},
   "outputs": [],
   "source": [
    "is_fraud_df = spark.sql(\"SELECT isFraud from trx\")"
   ]
  },
  {
   "cell_type": "code",
   "execution_count": null,
   "metadata": {},
   "outputs": [],
   "source": [
    "%%spark -o is_fraud_df"
   ]
  },
  {
   "cell_type": "code",
   "execution_count": null,
   "metadata": {},
   "outputs": [],
   "source": [
    "%%local\n",
    "is_fraud_df"
   ]
  },
  {
   "cell_type": "markdown",
   "metadata": {},
   "source": [
    "### Transaction Amount Histogram"
   ]
  },
  {
   "cell_type": "code",
   "execution_count": null,
   "metadata": {},
   "outputs": [],
   "source": [
    "%%sql -o amount -q\n",
    "SELECT amount from trx"
   ]
  },
  {
   "cell_type": "code",
   "execution_count": null,
   "metadata": {},
   "outputs": [],
   "source": [
    "%%local\n",
    "rcParams['figure.figsize'] = 20, 15\n",
    "n, bins, patches = plt.hist(amount.values, bins=100, facecolor='green', alpha=0.75)\n",
    "plt.xlabel('Transaction Amount')\n",
    "plt.ylabel('Count')\n",
    "plt.title(\"Transaction Amount Distribution\")\n",
    "plt.show()"
   ]
  },
  {
   "cell_type": "markdown",
   "metadata": {},
   "source": [
    "## Save Cleaned DataFrame to HopsFS"
   ]
  },
  {
   "cell_type": "code",
   "execution_count": 40,
   "metadata": {},
   "outputs": [
    {
     "name": "stdout",
     "output_type": "stream",
     "text": [
      "root\n",
      " |-- type: integer (nullable = true)\n",
      " |-- isFraud: integer (nullable = true)\n",
      " |-- nameOrig: integer (nullable = true)\n",
      " |-- nameDest: integer (nullable = true)\n",
      " |-- step: float (nullable = true)\n",
      " |-- amount: float (nullable = true)\n",
      " |-- oldbalanceOrg: float (nullable = true)\n",
      " |-- newbalanceOrg: float (nullable = true)\n",
      " |-- oldbalanceDest: float (nullable = true)\n",
      " |-- newbalanceDest: float (nullable = true)"
     ]
    }
   ],
   "source": [
    "df_cleaned.printSchema()"
   ]
  },
  {
   "cell_type": "code",
   "execution_count": 41,
   "metadata": {},
   "outputs": [
    {
     "name": "stdout",
     "output_type": "stream",
     "text": [
      "+----+-------+--------+--------+----+--------+-------------+-------------+--------------+--------------+\n",
      "|type|isFraud|nameOrig|nameDest|step|  amount|oldbalanceOrg|newbalanceOrg|oldbalanceDest|newbalanceDest|\n",
      "+----+-------+--------+--------+----+--------+-------------+-------------+--------------+--------------+\n",
      "|   3|      0|    null|    null| 1.0| 9839.64|     170136.0|    160296.36|           0.0|           0.0|\n",
      "|   3|      0|    null|    null| 1.0| 1864.28|      21249.0|     19384.72|           0.0|           0.0|\n",
      "|   4|      1|    null|    null| 1.0|   181.0|        181.0|          0.0|           0.0|           0.0|\n",
      "|   1|      1|    null|    null| 1.0|   181.0|        181.0|          0.0|       21182.0|           0.0|\n",
      "|   3|      0|    null|    null| 1.0|11668.14|      41554.0|     29885.86|           0.0|           0.0|\n",
      "+----+-------+--------+--------+----+--------+-------------+-------------+--------------+--------------+\n",
      "only showing top 5 rows"
     ]
    }
   ],
   "source": [
    "df_cleaned.show(5)"
   ]
  },
  {
   "cell_type": "code",
   "execution_count": 53,
   "metadata": {},
   "outputs": [],
   "source": [
    "df_cleaned.write.mode('overwrite').option(\"header\", \"true\").csv(OUTPUT_DATASET_PATH)"
   ]
  },
  {
   "cell_type": "markdown",
   "metadata": {},
   "source": [
    "## Save Metadata to HopsFS"
   ]
  },
  {
   "cell_type": "code",
   "execution_count": 79,
   "metadata": {},
   "outputs": [],
   "source": [
    "schema = StructType([StructField(\"account_name\", StringType(), nullable=False)])"
   ]
  },
  {
   "cell_type": "code",
   "execution_count": 88,
   "metadata": {},
   "outputs": [],
   "source": [
    "names_rdd = spark.sparkContext.parallelize(names).map(lambda x: Row(account_name = str(x)))"
   ]
  },
  {
   "cell_type": "code",
   "execution_count": 92,
   "metadata": {},
   "outputs": [],
   "source": [
    "names_df = names_rdd.toDF()"
   ]
  },
  {
   "cell_type": "code",
   "execution_count": 93,
   "metadata": {},
   "outputs": [],
   "source": [
    "names_int_df = names_df.withColumn(\"account_name_int\", udf_account_name_to_int(\"account_name\"))"
   ]
  },
  {
   "cell_type": "code",
   "execution_count": 94,
   "metadata": {},
   "outputs": [
    {
     "name": "stdout",
     "output_type": "stream",
     "text": [
      "root\n",
      " |-- account_name: string (nullable = true)\n",
      " |-- account_name_int: integer (nullable = true)"
     ]
    }
   ],
   "source": [
    "names_int_df.printSchema()"
   ]
  },
  {
   "cell_type": "code",
   "execution_count": 96,
   "metadata": {},
   "outputs": [],
   "source": [
    "names_int_df.write.mode('overwrite').option(\"header\", \"true\").csv(OUTPUT_METADATA_PATH + \"/account_names\")"
   ]
  },
  {
   "cell_type": "code",
   "execution_count": 100,
   "metadata": {},
   "outputs": [
    {
     "name": "stdout",
     "output_type": "stream",
     "text": [
      "['CASH_IN', 'CASH_OUT', 'DEBIT', 'PAYMENT', 'TRANSFER']"
     ]
    }
   ],
   "source": [
    "list(transaction_types.keys())"
   ]
  },
  {
   "cell_type": "code",
   "execution_count": 101,
   "metadata": {},
   "outputs": [
    {
     "name": "stdout",
     "output_type": "stream",
     "text": [
      "[0, 1, 2, 3, 4]"
     ]
    }
   ],
   "source": [
    "list(transaction_types.values())"
   ]
  },
  {
   "cell_type": "code",
   "execution_count": 103,
   "metadata": {},
   "outputs": [],
   "source": [
    "transasction_types_int_rdd = spark.sparkContext.parallelize(transaction_types.keys()) \\\n",
    "     .map(lambda x: Row(transaction_type = str(x), transaction_int = transaction_types[str(x)]))"
   ]
  },
  {
   "cell_type": "code",
   "execution_count": 106,
   "metadata": {},
   "outputs": [],
   "source": [
    "transasction_types_int_df = transasction_types_int_rdd.toDF()"
   ]
  },
  {
   "cell_type": "code",
   "execution_count": 107,
   "metadata": {},
   "outputs": [
    {
     "name": "stdout",
     "output_type": "stream",
     "text": [
      "root\n",
      " |-- transaction_int: long (nullable = true)\n",
      " |-- transaction_type: string (nullable = true)"
     ]
    }
   ],
   "source": [
    "transasction_types_int_df.printSchema()"
   ]
  },
  {
   "cell_type": "code",
   "execution_count": 108,
   "metadata": {},
   "outputs": [],
   "source": [
    "transasction_types_int_df.coalesce(1).write.mode('overwrite').option(\"header\", \"true\").csv(OUTPUT_METADATA_PATH + \"/transaction_types\")"
   ]
  },
  {
   "cell_type": "code",
   "execution_count": null,
   "metadata": {},
   "outputs": [],
   "source": []
  }
 ],
 "metadata": {
  "kernelspec": {
   "display_name": "PySpark",
   "language": "",
   "name": "pysparkkernel"
  },
  "language_info": {
   "codemirror_mode": {
    "name": "python",
    "version": 2
   },
   "mimetype": "text/x-python",
   "name": "pyspark",
   "pygments_lexer": "python2"
  }
 },
 "nbformat": 4,
 "nbformat_minor": 2
}
